{
 "cells": [
  {
   "cell_type": "code",
   "execution_count": 21,
   "metadata": {
    "colab": {
     "base_uri": "https://localhost:8080/"
    },
    "id": "1FrOOS8btHoG",
    "outputId": "f84a6262-f762-4a28-9db0-db3131b396b2"
   },
   "outputs": [
    {
     "name": "stdout",
     "output_type": "stream",
     "text": [
      "Collecting split-folders\n",
      "  Downloading split_folders-0.5.1-py3-none-any.whl (8.4 kB)\n",
      "Installing collected packages: split-folders\n",
      "Successfully installed split-folders-0.5.1\n"
     ]
    }
   ],
   "source": [
    "!pip install split-folders"
   ]
  },
  {
   "cell_type": "code",
   "execution_count": 22,
   "metadata": {},
   "outputs": [],
   "source": [
    "import wget, os, splitfolders\n",
    "from zipfile import ZipFile"
   ]
  },
  {
   "cell_type": "code",
   "execution_count": 43,
   "metadata": {},
   "outputs": [
    {
     "data": {
      "text/plain": [
       "'FIRE-SMOKE-DATASET.zip'"
      ]
     },
     "execution_count": 43,
     "metadata": {},
     "output_type": "execute_result"
    }
   ],
   "source": [
    "wget.download('https://github.com/DeepQuestAI/Fire-Smoke-Dataset/releases/download/v1/FIRE-SMOKE-DATASET.zip')"
   ]
  },
  {
   "cell_type": "code",
   "execution_count": 100,
   "metadata": {},
   "outputs": [],
   "source": [
    "with ZipFile('FIRE-SMOKE-DATASET.zip') as file:\n",
    "    file.extractall()"
   ]
  },
  {
   "cell_type": "code",
   "execution_count": 101,
   "metadata": {},
   "outputs": [
    {
     "name": "stdout",
     "output_type": "stream",
     "text": [
      "The current structure of FIRE-SMOKE-DATASET is:\n",
      "1. Test folder contains:\n",
      "- 100 Fire image\n",
      "- 100 Neutral image\n",
      "- 100 Smoke image\n",
      "* Total Images: 300 (%10.0) *\n",
      "\n",
      "2. Train folder contains:\n",
      "- 900 Fire image\n",
      "- 900 Neutral image\n",
      "- 900 Smoke image\n",
      "* Total Images: 2700 (%90.0) *\n",
      "\n"
     ]
    }
   ],
   "source": [
    "def print_data_info(directory):\n",
    "  print(f'The current structure of {directory} is:')\n",
    "  for i,folder in enumerate(os.listdir(directory)):\n",
    "      print(f'{i+1}. {folder} folder contains:')\n",
    "      folder_path=os.path.join(directory,folder)\n",
    "      folder_imgs=0\n",
    "      for cls in os.listdir(folder_path):\n",
    "          cls_imgs=len(os.listdir(os.path.join(folder_path,cls)))\n",
    "          print('- {} {} image'.format(cls_imgs, cls))\n",
    "          folder_imgs+=cls_imgs\n",
    "      print(f'* Total Images: {folder_imgs} (%{folder_imgs/3000.0*100}) *\\n')\n",
    "    \n",
    "    \n",
    "print_data_info('FIRE-SMOKE-DATASET')"
   ]
  },
  {
   "cell_type": "code",
   "execution_count": 102,
   "metadata": {
    "id": "58DRVh0YuDX-"
   },
   "outputs": [],
   "source": [
    "train_path='FIRE-SMOKE-DATASET/Train'"
   ]
  },
  {
   "cell_type": "code",
   "execution_count": 103,
   "metadata": {
    "colab": {
     "base_uri": "https://localhost:8080/"
    },
    "id": "LrU_lDUqtmyb",
    "outputId": "1d3cfe8e-1058-4c41-bf3e-bbd70bcdfce9",
    "scrolled": false
   },
   "outputs": [
    {
     "name": "stderr",
     "output_type": "stream",
     "text": [
      "\n",
      "\n",
      "\n",
      "\n",
      "\n",
      "Copying files: 0 files [00:00, ? files/s]\u001b[A\u001b[A\u001b[A\u001b[A\u001b[A\n",
      "\n",
      "\n",
      "\n",
      "\n",
      "Copying files: 79 files [00:00, 715.35 files/s]\u001b[A\u001b[A\u001b[A\u001b[A\u001b[A\n",
      "\n",
      "\n",
      "\n",
      "\n",
      "Copying files: 151 files [00:00, 610.50 files/s]\u001b[A\u001b[A\u001b[A\u001b[A\u001b[A\n",
      "\n",
      "\n",
      "\n",
      "\n",
      "Copying files: 339 files [00:00, 1117.88 files/s]\u001b[A\u001b[A\u001b[A\u001b[A\u001b[A\n",
      "\n",
      "\n",
      "\n",
      "\n",
      "Copying files: 526 files [00:00, 1391.55 files/s]\u001b[A\u001b[A\u001b[A\u001b[A\u001b[A\n",
      "\n",
      "\n",
      "\n",
      "\n",
      "Copying files: 678 files [00:00, 1428.46 files/s]\u001b[A\u001b[A\u001b[A\u001b[A\u001b[A\n",
      "\n",
      "\n",
      "\n",
      "\n",
      "Copying files: 897 files [00:00, 1598.10 files/s]\u001b[A\u001b[A\u001b[A\u001b[A\u001b[A\n",
      "\n",
      "\n",
      "\n",
      "\n",
      "Copying files: 1059 files [00:00, 1151.88 files/s]\u001b[A\u001b[A\u001b[A\u001b[A\u001b[A\n",
      "\n",
      "\n",
      "\n",
      "\n",
      "Copying files: 1267 files [00:00, 1373.40 files/s]\u001b[A\u001b[A\u001b[A\u001b[A\u001b[A\n",
      "\n",
      "\n",
      "\n",
      "\n",
      "Copying files: 1485 files [00:01, 1551.59 files/s]\u001b[A\u001b[A\u001b[A\u001b[A\u001b[A\n",
      "\n",
      "\n",
      "\n",
      "\n",
      "Copying files: 1660 files [00:01, 1599.91 files/s]\u001b[A\u001b[A\u001b[A\u001b[A\u001b[A\n",
      "\n",
      "\n",
      "\n",
      "\n",
      "Copying files: 1832 files [00:01, 1280.49 files/s]\u001b[A\u001b[A\u001b[A\u001b[A\u001b[A\n",
      "\n",
      "\n",
      "\n",
      "\n",
      "Copying files: 2002 files [00:01, 1332.12 files/s]\u001b[A\u001b[A\u001b[A\u001b[A\u001b[A\n",
      "\n",
      "\n",
      "\n",
      "\n",
      "Copying files: 2202 files [00:01, 1494.78 files/s]\u001b[A\u001b[A\u001b[A\u001b[A\u001b[A\n",
      "\n",
      "\n",
      "\n",
      "\n",
      "Copying files: 2388 files [00:01, 1589.25 files/s]\u001b[A\u001b[A\u001b[A\u001b[A\u001b[A\n",
      "\n",
      "\n",
      "\n",
      "\n",
      "Copying files: 2700 files [00:01, 1408.70 files/s]\u001b[A\u001b[A\u001b[A\u001b[A\u001b[A\n"
     ]
    }
   ],
   "source": [
    "splitfolders.ratio(train_path,output='data',ratio=(.85,.15),move=True)"
   ]
  },
  {
   "cell_type": "code",
   "execution_count": 104,
   "metadata": {
    "id": "E6rG06gDyDUZ"
   },
   "outputs": [],
   "source": [
    "\"\"\"\n",
    "    remove directories of single-up-to-three level directory\n",
    "\"\"\"\n",
    "def remove_dir(path):\n",
    "    for folder in os.listdir(path):\n",
    "        folder_path=os.path.join(path,folder)\n",
    "        if os.path.isdir(folder_path):\n",
    "            for cls in os.listdir(folder_path):\n",
    "                cls_path=os.path.join(folder_path,cls)\n",
    "                if os.path.isdir(cls_path):\n",
    "                    for img in os.listdir(cls_path):\n",
    "                        os.remove(os.path.join(cls_path,img))\n",
    "                    os.rmdir(cls_path)\n",
    "                else:\n",
    "                    os.remove(cls_path)\n",
    "\n",
    "            os.rmdir(folder_path)\n",
    "        else:\n",
    "            os.remove(folder_path)\n",
    "    os.rmdir(path)"
   ]
  },
  {
   "cell_type": "code",
   "execution_count": 105,
   "metadata": {
    "id": "slrTzdR42Nxs"
   },
   "outputs": [],
   "source": [
    "#organize folders\n",
    "os.rename(r'FIRE-SMOKE-DATASET/Test',r'data/test')\n",
    "remove_dir('FIRE-SMOKE-DATASET')"
   ]
  },
  {
   "cell_type": "code",
   "execution_count": 106,
   "metadata": {
    "colab": {
     "base_uri": "https://localhost:8080/"
    },
    "id": "pQkEJCQaHZeX",
    "outputId": "79eae7cf-e010-43eb-cc77-1a2148bc4f4e"
   },
   "outputs": [
    {
     "name": "stdout",
     "output_type": "stream",
     "text": [
      "The current structure of data is:\n",
      "1. test folder contains:\n",
      "- 100 Fire image\n",
      "- 100 Neutral image\n",
      "- 100 Smoke image\n",
      "* Total Images: 300 (%10.0) *\n",
      "\n",
      "2. train folder contains:\n",
      "- 765 Fire image\n",
      "- 765 Neutral image\n",
      "- 765 Smoke image\n",
      "* Total Images: 2295 (%76.5) *\n",
      "\n",
      "3. val folder contains:\n",
      "- 135 Fire image\n",
      "- 135 Neutral image\n",
      "- 135 Smoke image\n",
      "* Total Images: 405 (%13.5) *\n",
      "\n"
     ]
    }
   ],
   "source": [
    "print_data_info('data')"
   ]
  },
  {
   "cell_type": "code",
   "execution_count": 2,
   "metadata": {},
   "outputs": [],
   "source": [
    "#remove_dir('Train')\n",
    "#remove_dir('Test')"
   ]
  }
 ],
 "metadata": {
  "colab": {
   "provenance": []
  },
  "kernelspec": {
   "display_name": "Python 3 (ipykernel)",
   "language": "python",
   "name": "python3"
  },
  "language_info": {
   "codemirror_mode": {
    "name": "ipython",
    "version": 3
   },
   "file_extension": ".py",
   "mimetype": "text/x-python",
   "name": "python",
   "nbconvert_exporter": "python",
   "pygments_lexer": "ipython3",
   "version": "3.11.3"
  }
 },
 "nbformat": 4,
 "nbformat_minor": 1
}
