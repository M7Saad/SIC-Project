{
 "cells": [
  {
   "cell_type": "markdown",
   "metadata": {},
   "source": [
    "# SIC PROJECT\n",
    "\n"
   ]
  },
  {
   "cell_type": "code",
   "execution_count": 8,
   "metadata": {},
   "outputs": [
    {
     "name": "stdout",
     "output_type": "stream",
     "text": [
      "All requirements are installed\n"
     ]
    }
   ],
   "source": [
    "#requirements and dependencies\n",
    "#check if the requirements are installed\n",
    "requirements = [\"tensorflow\", \"numpy\", \"cv2\", \"tqdm\", \"matplotlib\", \"tensorboard\", \"tensorflow_hub\", \"sklearn\"]\n",
    "#if not, quit\n",
    "for requirement in requirements:\n",
    "    try:\n",
    "        __import__(requirement)\n",
    "    except ImportError:\n",
    "        print(\"You need to install the following package: \" + requirement)\n",
    "        print(\"You can do this by running: pip install \" + requirement)\n",
    "        quit()\n",
    "print(\"All requirements are installed\")"
   ]
  },
  {
   "cell_type": "code",
   "execution_count": 9,
   "metadata": {},
   "outputs": [
    {
     "name": "stdout",
     "output_type": "stream",
     "text": [
      "The tensorboard extension is already loaded. To reload it, use:\n",
      "  %reload_ext tensorboard\n",
      "success\n"
     ]
    }
   ],
   "source": [
    "#import packages\n",
    "import tensorflow as tf\n",
    "import tensorflow_hub as hub\n",
    "import numpy as np\n",
    "import os\n",
    "import cv2\n",
    "import matplotlib.pyplot as plt\n",
    "import tqdm\n",
    "import datetime\n",
    "from sklearn.model_selection import train_test_split\n",
    "\n",
    "import tensorboard\n",
    "%load_ext tensorboard\n",
    "print(\"success\")"
   ]
  },
  {
   "cell_type": "code",
   "execution_count": 10,
   "metadata": {},
   "outputs": [
    {
     "name": "stdout",
     "output_type": "stream",
     "text": [
      "/device:GPU:0\n",
      "Num GPUs Available:  1\n"
     ]
    },
    {
     "name": "stderr",
     "output_type": "stream",
     "text": [
      "2023-07-31 05:09:47.350444: I tensorflow/core/common_runtime/pluggable_device/pluggable_device_factory.cc:303] Could not identify NUMA node of platform GPU ID 0, defaulting to 0. Your kernel may not have been built with NUMA support.\n",
      "2023-07-31 05:09:47.350483: I tensorflow/core/common_runtime/pluggable_device/pluggable_device_factory.cc:269] Created TensorFlow device (/device:GPU:0 with 0 MB memory) -> physical PluggableDevice (device: 0, name: METAL, pci bus id: <undefined>)\n"
     ]
    },
    {
     "data": {
      "text/plain": [
       "[PhysicalDevice(name='/physical_device:CPU:0', device_type='CPU'),\n",
       " PhysicalDevice(name='/physical_device:GPU:0', device_type='GPU')]"
      ]
     },
     "execution_count": 10,
     "metadata": {},
     "output_type": "execute_result"
    }
   ],
   "source": [
    "#check metal gpu\n",
    "print(tf.test.gpu_device_name())\n",
    "print(\"Num GPUs Available: \", len(tf.config.list_physical_devices('GPU')))\n",
    "tf.config.list_physical_devices()"
   ]
  },
  {
   "cell_type": "code",
   "execution_count": 11,
   "metadata": {},
   "outputs": [],
   "source": [
    "#load data\n",
    "def load_data(path, IMG_SIZE=224):\n",
    "    \"\"\"\n",
    "    Load image data from directory, resize and normalize it.\n",
    "    return tuple `(images, labels)`.\n",
    "    \"\"\"\n",
    "    categories = os.listdir(path)\n",
    "    data = []\n",
    "    labels = []\n",
    "    for category in tqdm.tqdm(categories):\n",
    "        folder_path = os.path.join(path, category)\n",
    "\n",
    "        for img_name in os.listdir(folder_path):\n",
    "            img_path = os.path.join(folder_path, img_name)\n",
    "            img = cv2.imread(img_path)\n",
    "            if img is not None:\n",
    "                img = cv2.resize(img, (IMG_SIZE, IMG_SIZE))\n",
    "                data.append(img)\n",
    "                labels.append(categories.index(category))\n",
    "\n",
    "    return np.array(data), tf.keras.utils.to_categorical(labels)"
   ]
  },
  {
   "cell_type": "code",
   "execution_count": 12,
   "metadata": {},
   "outputs": [],
   "source": [
    "#built from scratch model\n",
    "def get_model(IMG_SIZE = 224, NUM_CLASSES = 3):\n",
    "    \n",
    "    #model architecture\n",
    "    model = tf.keras.models.Sequential([\n",
    "\n",
    "       tf.keras.layers.Conv2D(\n",
    "           64, (3, 3), activation=\"relu\", input_shape=(IMG_SIZE, IMG_SIZE, 3)\n",
    "       ),\n",
    "\n",
    "       tf.keras.layers.MaxPooling2D(pool_size=(2, 2)),\n",
    "\n",
    "       tf.keras.layers.Dropout(0.25),\n",
    "\n",
    "       tf.keras.layers.Conv2D(\n",
    "           128, (3, 3), activation=\"relu\"),\n",
    "\n",
    "       tf.keras.layers.MaxPooling2D(pool_size=(2, 2)),\n",
    "\n",
    "       tf.keras.layers.Dropout(0.25),\n",
    "\n",
    "       tf.keras.layers.Flatten(),\n",
    "\n",
    "       tf.keras.layers.Dense(128, activation=\"relu\"),\n",
    "\n",
    "       tf.keras.layers.Dropout(0.25),\n",
    "       ##\n",
    "\n",
    "       tf.keras.layers.Dense(NUM_CLASSES, activation=\"softmax\")\n",
    "\n",
    "    ])\n",
    "\n",
    "    # Compile Model\n",
    "    model.compile(\n",
    "        optimizer=\"adam\",\n",
    "        loss=\"categorical_crossentropy\",\n",
    "        metrics=[\"categorical_accuracy\"]\n",
    "    )\n",
    "\n",
    "    return model"
   ]
  },
  {
   "cell_type": "code",
   "execution_count": 13,
   "metadata": {},
   "outputs": [
    {
     "name": "stderr",
     "output_type": "stream",
     "text": [
      " 33%|███▎      | 1/3 [00:00<00:00,  2.78it/s]"
     ]
    }
   ],
   "source": [
    "#load data\n",
    "train_data, train_labels = load_data('Train')\n",
    "test_data, test_labels = load_data('Test')\n",
    "\n",
    "#load model\n",
    "model = get_model()\n",
    "\n",
    "#some parameters\n",
    "EPOCHS = 1\n",
    "IMG_SIZE = 224\n",
    "BATCH_SIZE = 1\n",
    "\n",
    "#for tensorboard\n",
    "log_dir = \"logs/fit/\" + str(len(os.listdir('logs/fit')) + 1) if os.path.exists('logs/fit') else \"logs/fit/1\"\n",
    "tensorboard_callback = tf.keras.callbacks.TensorBoard(log_dir=log_dir,  histogram_freq=1)\n",
    "\n",
    "#train and validate the model\n",
    "history = model.fit(x = train_data, y = train_labels, validation_split=0.1, epochs=EPOCHS, batch_size=BATCH_SIZE, callbacks=[tensorboard_callback])\n",
    "#evaluate the model\n",
    "test_loss, test_acc = model.evaluate(test_data, test_labels, callbacks=[tensorboard_callback])"
   ]
  },
  {
   "cell_type": "code",
   "execution_count": null,
   "metadata": {},
   "outputs": [
    {
     "name": "stdout",
     "output_type": "stream",
     "text": [
      "model accuracy: 0.5266666412353516\n",
      "allah y3een\n"
     ]
    },
    {
     "data": {
      "text/html": [
       "\n",
       "      <iframe id=\"tensorboard-frame-582b2c9dee780ae7\" width=\"100%\" height=\"800\" frameborder=\"0\">\n",
       "      </iframe>\n",
       "      <script>\n",
       "        (function() {\n",
       "          const frame = document.getElementById(\"tensorboard-frame-582b2c9dee780ae7\");\n",
       "          const url = new URL(\"/\", window.location);\n",
       "          const port = 6969;\n",
       "          if (port) {\n",
       "            url.port = port;\n",
       "          }\n",
       "          frame.src = url;\n",
       "        })();\n",
       "      </script>\n",
       "    "
      ],
      "text/plain": [
       "<IPython.core.display.HTML object>"
      ]
     },
     "metadata": {},
     "output_type": "display_data"
    }
   ],
   "source": [
    "#lunch tensorboard to plot the results and the graphs\n",
    "print(\"model accuracy: \" + str(test_acc))\n",
    "print(\"allah y3een\")\n",
    "%tensorboard --logdir=logs --port=6969"
   ]
  }
 ],
 "metadata": {
  "kernelspec": {
   "display_name": "base",
   "language": "python",
   "name": "python3"
  },
  "language_info": {
   "codemirror_mode": {
    "name": "ipython",
    "version": 3
   },
   "file_extension": ".py",
   "mimetype": "text/x-python",
   "name": "python",
   "nbconvert_exporter": "python",
   "pygments_lexer": "ipython3",
   "version": "3.10.12"
  },
  "orig_nbformat": 4
 },
 "nbformat": 4,
 "nbformat_minor": 2
}
